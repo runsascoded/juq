{
 "cells": [
  {
   "attachments": {},
   "cell_type": "markdown",
   "id": "aee1c494-5792-4ca4-b5ec-e6a4a5c10922",
   "metadata": {},
   "source": [
    "# Test renumber `execution_count`s\n",
    "\n",
    "Markdown cells are unaffected"
   ]
  },
  {
   "cell_type": "code",
   "execution_count": null,
   "id": "27ef4e23-2197-4889-93ed-42e551ec4d87",
   "metadata": {
    "editable": true,
    "slideshow": {
     "slide_type": ""
    },
    "tags": [
     "parameters"
    ]
   },
   "outputs": [],
   "source": [
    "num = 111"
   ]
  },
  {
   "cell_type": "markdown",
   "id": "a3b4bc82-bd83-4c51-807c-6c528157fbac",
   "metadata": {},
   "source": [
    "Some more markdown"
   ]
  },
  {
   "cell_type": "code",
   "execution_count": 1,
   "id": "c798eb53-1740-44d5-8035-ee146e09424e",
   "metadata": {
    "editable": true,
    "slideshow": {
     "slide_type": ""
    },
    "tags": []
   },
   "outputs": [
    {
     "name": "stdout",
     "output_type": "stream",
     "text": [
      "num=111\n"
     ]
    },
    {
     "data": {
      "text/plain": [
       "12321"
      ]
     },
     "execution_count": 1,
     "metadata": {},
     "output_type": "execute_result"
    }
   ],
   "source": [
    "print(f\"{num=}\")\n",
    "num * num"
   ]
  },
  {
   "cell_type": "markdown",
   "id": "3055b7b3-1282-43a5-a21a-40456fb333af",
   "metadata": {},
   "source": [
    "Markdown!"
   ]
  },
  {
   "cell_type": "code",
   "execution_count": 2,
   "id": "de46251e-8831-4d15-a3ae-24eac79ac418",
   "metadata": {
    "editable": true,
    "slideshow": {
     "slide_type": ""
    },
    "tags": []
   },
   "outputs": [
    {
     "name": "stderr",
     "output_type": "stream",
     "text": [
      "stderr! num=111\n"
     ]
    }
   ],
   "source": [
    "from utz import err\n",
    "err(f\"stderr! {num=}\")"
   ]
  },
  {
   "cell_type": "code",
   "execution_count": 3,
   "id": "21e61abe-fd2a-4e5c-85e9-2cb97c46aa5f",
   "metadata": {
    "editable": true,
    "slideshow": {
     "slide_type": ""
    },
    "tags": []
   },
   "outputs": [
    {
     "name": "stderr",
     "output_type": "stream",
     "text": [
      "stderr! num=111\n"
     ]
    },
    {
     "data": {
      "text/plain": [
       "111"
      ]
     },
     "execution_count": 3,
     "metadata": {},
     "output_type": "execute_result"
    }
   ],
   "source": [
    "from utz import err\n",
    "err(f\"stderr! {num=}\")\n",
    "num"
   ]
  }
 ],
 "metadata": {
  "kernelspec": {
   "display_name": "Python 3.11.8",
   "language": "python",
   "name": "python3"
  },
  "language_info": {
   "codemirror_mode": {
    "name": "ipython",
    "version": 3
   },
   "file_extension": ".py",
   "mimetype": "text/x-python",
   "name": "python",
   "nbconvert_exporter": "python",
   "pygments_lexer": "ipython3",
   "version": "3.11.8"
  }
 },
 "nbformat": 4,
 "nbformat_minor": 5
}